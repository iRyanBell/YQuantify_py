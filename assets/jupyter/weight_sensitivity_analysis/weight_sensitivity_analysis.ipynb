{
 "cells": [
  {
   "cell_type": "markdown",
   "metadata": {},
   "source": [
    "This algorithm is to provide the sensitivity of different attributes depending on a user. The current attributes are sleep hours, exercise hours, and calories you gain. Because of lack of dataset, this ML framework uses the daily data the user provides us. Based on the dataset, this framework solves a multivariate regression problem. Using this regression problem, the framework solves tayler series expansion to gain the sensitivity depending on an attributes.\n"
   ]
  },
  {
   "cell_type": "code",
   "execution_count": 1,
   "metadata": {},
   "outputs": [],
   "source": [
    "#Load python packages\n",
    "import pandas as pd\n",
    "import json\n",
    "import numpy as np\n",
    "import sys\n",
    "import matplotlib.pyplot as plt\n",
    "#fit the model\n",
    "from statsmodels.tsa.vector_ar.var_model import VAR\n",
    "import sys\n",
    "import seaborn as sns\n"
   ]
  },
  {
   "cell_type": "code",
   "execution_count": 2,
   "metadata": {},
   "outputs": [],
   "source": [
    "#############################################\n",
    "# Input parameters\n",
    "#############################################\n",
    "SENSITIVITY_RATIO = 0.3\n",
    "MAXIMUM_NUM_DATA = 30 #DAYS\n",
    "SAMPLING_TIME = 1 #DAY\n"
   ]
  },
  {
   "cell_type": "code",
   "execution_count": 3,
   "metadata": {},
   "outputs": [],
   "source": [
    "##############################################\n",
    "# Read dataset\n",
    "##############################################\n",
    "#TODO: This one should be from the SQL database\n",
    "df = pd.read_csv('weight.csv')"
   ]
  },
  {
   "cell_type": "code",
   "execution_count": 4,
   "metadata": {},
   "outputs": [],
   "source": [
    "##############################################\n",
    "# DATA EXPLORATION\n",
    "##############################################\n",
    "df['Date'] = pd.to_datetime(df['Date'])\n",
    "df.set_index('Date', inplace=True)\n",
    "\n",
    "columns=['Sleep', 'Exercise', 'Calories','Weight']\n",
    "df_data = df.copy()\n",
    "df_data = df_data[columns]"
   ]
  },
  {
   "cell_type": "code",
   "execution_count": 5,
   "metadata": {},
   "outputs": [],
   "source": [
    "##############################################\n",
    "# Data manupulation for NAN value\n",
    "##############################################\n",
    "cols = df_data.columns\n",
    "\n",
    "nan_columns = df_data.isnull().any()\n",
    "nan_true = [i for i, col_i in enumerate(nan_columns) if col_i == True]\n",
    "\n",
    "#Should be forloop\n",
    "for nan_i in nan_true:\n",
    "    column_name = nan_columns.index[nan_i]\n",
    "    s = pd.Series(df_data[column_name])\n",
    "    df_data[column_name] = s.interpolate(method='nearest')\n"
   ]
  },
  {
   "cell_type": "code",
   "execution_count": 6,
   "metadata": {},
   "outputs": [],
   "source": [
    "# Use only n number of data\n",
    "df_data = df_data.iloc[-MAXIMUM_NUM_DATA:]"
   ]
  },
  {
   "cell_type": "code",
   "execution_count": 7,
   "metadata": {},
   "outputs": [
    {
     "name": "stderr",
     "output_type": "stream",
     "text": [
      "/usr/local/lib/python3.6/dist-packages/statsmodels/tsa/base/tsa_model.py:171: ValueWarning: No frequency information was provided, so inferred frequency D will be used.\n",
      "  % freq, ValueWarning)\n",
      "/usr/local/lib/python3.6/dist-packages/statsmodels/tsa/base/tsa_model.py:191: FutureWarning: Creating a DatetimeIndex by passing range endpoints is deprecated.  Use `pandas.date_range` instead.\n",
      "  start=index[0], end=index[-1], freq=freq)\n",
      "/usr/local/lib/python3.6/dist-packages/statsmodels/tsa/base/tsa_model.py:171: ValueWarning: No frequency information was provided, so inferred frequency D will be used.\n",
      "  % freq, ValueWarning)\n"
     ]
    }
   ],
   "source": [
    "##############################################\n",
    "#  ARIMA stands for Auto-Regressive Integrated Moving Average.\n",
    "##############################################\n",
    "\n",
    "Y = df_data['Weight']\n",
    "X = df_data.drop(['Weight'], axis=1)\n",
    "\n",
    "#creating the train and validation set\n",
    "train = df_data[:-1]\n",
    "test = df_data[-1:]\n",
    "\n",
    "model = VAR(endog=train)\n",
    "model_fit = model.fit()\n",
    "\n",
    "# make prediction on validation\n",
    "prediction = model_fit.forecast(model_fit.y, steps=1)\n",
    "\n",
    "#make final predictions\n",
    "model = VAR(endog=train)\n",
    "model_fit = model.fit()\n",
    "yhat = model_fit.forecast(model_fit.y, steps=2)"
   ]
  },
  {
   "cell_type": "markdown",
   "metadata": {},
   "source": [
    "Sensivity analysis uses taylor series expansion. Let's say the prediction model from the multi-variate regression is $ \\hat{f} (\\mathbf{x}) $. \n",
    "$$\\hat{f}(\\mathbf{x} + \\delta(\\mathbf{x})) = \\hat{f}(\\mathbf{x}) + \\hat{{f}\n",
    "'}(\\mathbf{x})\\delta\\mathbf{x} + high \\: order \\:terms$$ \n",
    "When $\\delta{x}$ is small, we can neglect the high order terms, and define the first or higher order of approximated functions. In here, we only consider the first order model, which is a linear model.\n",
    "        $$\\hat{f}(\\mathbf{x} + \\delta(\\mathbf{x})) = \\hat{f}(\\mathbf{x}) + \\hat{{f}'}(\\mathbf{x})\\delta\\mathbf{x} + \\varepsilon (\\mathbf{\\delta}^2) \\approx \\hat{f}(\\mathbf{x}) + \\hat{{f}'}(\\mathbf{x})\\delta\\mathbf{x} $$ \n",
    "From the Taylor series expansion, we can get the gradient information.\n",
    "$$ \\hat{{f}'}(\\mathbf{x})  = \\frac{\\hat{f}(\\mathbf{x} + \\delta\\mathbf{x}) - \\hat{f}(\\mathbf{x})}{\\delta\\mathbf{x}} $$\n",
    "This gradient can be computed by the numerically through the small perturbation $\\delta{x}$"
   ]
  },
  {
   "cell_type": "code",
   "execution_count": 8,
   "metadata": {},
   "outputs": [],
   "source": [
    "##############################################\n",
    "#  Sensitivity\n",
    "##############################################\n",
    "def sensitivity(df, col_name, ratio, percentage=0.9):\n",
    "    print(col_name)\n",
    "    avg_data = df_data_sen.mean()\n",
    "    # df_data_sen[col_name]\n",
    "    df_data_sen[col_name].iloc[-2]= df_data_sen[col_name].iloc[-2] * ratio\n",
    "\n",
    "    train = df_data_sen[:-1]\n",
    "    test = df_data_sen[-1:]\n",
    "\n",
    "    model_sen = VAR(endog=train)\n",
    "    model_sen_fit = model_sen.fit()\n",
    "\n",
    "    # make prediction on validation\n",
    "    yhat_sen_cal = model_sen_fit.forecast(model_sen_fit.y, steps=2)\n",
    "    return yhat_sen_cal[:,3][-1]"
   ]
  },
  {
   "cell_type": "code",
   "execution_count": 9,
   "metadata": {},
   "outputs": [
    {
     "name": "stdout",
     "output_type": "stream",
     "text": [
      "Sleep\n",
      "Exercise\n",
      "Calories\n"
     ]
    },
    {
     "name": "stderr",
     "output_type": "stream",
     "text": [
      "/usr/local/lib/python3.6/dist-packages/pandas/core/indexing.py:205: SettingWithCopyWarning: \n",
      "A value is trying to be set on a copy of a slice from a DataFrame\n",
      "\n",
      "See the caveats in the documentation: http://pandas.pydata.org/pandas-docs/stable/user_guide/indexing.html#returning-a-view-versus-a-copy\n",
      "  self._setitem_with_indexer(indexer, value)\n",
      "/usr/local/lib/python3.6/dist-packages/statsmodels/tsa/base/tsa_model.py:171: ValueWarning: No frequency information was provided, so inferred frequency D will be used.\n",
      "  % freq, ValueWarning)\n",
      "/usr/local/lib/python3.6/dist-packages/statsmodels/tsa/base/tsa_model.py:171: ValueWarning: No frequency information was provided, so inferred frequency D will be used.\n",
      "  % freq, ValueWarning)\n",
      "/usr/local/lib/python3.6/dist-packages/statsmodels/tsa/base/tsa_model.py:171: ValueWarning: No frequency information was provided, so inferred frequency D will be used.\n",
      "  % freq, ValueWarning)\n"
     ]
    }
   ],
   "source": [
    "\n",
    "col_names_sensitivity = {'Sleep':1+SENSITIVITY_RATIO, 'Exercise':1+SENSITIVITY_RATIO, 'Calories':1-SENSITIVITY_RATIO}\n",
    "\n",
    "weight_pred = []\n",
    "weight_sensitivity = []\n",
    "for col_i, direction in col_names_sensitivity.items():\n",
    "    df_data_sen = df_data.copy()\n",
    "    res = sensitivity(df_data_sen, col_i, direction, percentage=0.1)\n",
    "    weight_pred.append(res)\n",
    "    weight_sensitivity.append((yhat[1,3] - res)/SAMPLING_TIME)"
   ]
  },
  {
   "cell_type": "code",
   "execution_count": 10,
   "metadata": {},
   "outputs": [],
   "source": [
    "\n",
    "#FINAL RESULT\n",
    "df_sen = pd.DataFrame()\n",
    "df_sen['attr'] = col_names_sensitivity.keys()\n",
    "df_sen['weight_pred'] = weight_pred\n",
    "df_sen['sensitivity'] = np.array(weight_sensitivity) * -1\n"
   ]
  },
  {
   "cell_type": "code",
   "execution_count": 11,
   "metadata": {},
   "outputs": [
    {
     "data": {
      "image/png": "[encoded data removed]",
      "text/plain": [
       "<Figure size 432x288 with 1 Axes>"
      ]
     },
     "metadata": {},
     "output_type": "display_data"
    }
   ],
   "source": [
    "sns.set(style=\"whitegrid\")\n",
    "ax = sns.barplot(x=\"attr\", y=\"sensitivity\", data=df_sen)\n",
    "plt.show()\n"
   ]
  },
  {
   "cell_type": "code",
   "execution_count": null,
   "metadata": {},
   "outputs": [],
   "source": []
  }
 ],
 "metadata": {
  "kernelspec": {
   "display_name": "Python 3",
   "language": "python",
   "name": "python3"
  },
  "language_info": {
   "codemirror_mode": {
    "name": "ipython",
    "version": 3
   },
   "file_extension": ".py",
   "mimetype": "text/x-python",
   "name": "python",
   "nbconvert_exporter": "python",
   "pygments_lexer": "ipython3",
   "version": "3.6.8"
  }
 },
 "nbformat": 4,
 "nbformat_minor": 2
}
